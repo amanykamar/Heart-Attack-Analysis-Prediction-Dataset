{
 "cells": [
  {
   "cell_type": "markdown",
   "id": "28784293",
   "metadata": {},
   "source": [
    "# Heart Attack Analysis & Prediction Dataset\n",
    "\n",
    "In this task you are asked to use `heart-data.csv` to train a support vector machine to predict heart attacks.\n",
    "\n",
    "See `Data description.docx` or `Data description.pdf` for description of dataset."
   ]
  },
  {
   "cell_type": "markdown",
   "id": "6b62fe48",
   "metadata": {},
   "source": [
    "# Reading Dataset"
   ]
  },
  {
   "cell_type": "code",
   "execution_count": 1,
   "id": "0c027389",
   "metadata": {},
   "outputs": [
    {
     "data": {
      "text/html": [
       "<div>\n",
       "<style scoped>\n",
       "    .dataframe tbody tr th:only-of-type {\n",
       "        vertical-align: middle;\n",
       "    }\n",
       "\n",
       "    .dataframe tbody tr th {\n",
       "        vertical-align: top;\n",
       "    }\n",
       "\n",
       "    .dataframe thead th {\n",
       "        text-align: right;\n",
       "    }\n",
       "</style>\n",
       "<table border=\"1\" class=\"dataframe\">\n",
       "  <thead>\n",
       "    <tr style=\"text-align: right;\">\n",
       "      <th></th>\n",
       "      <th>age</th>\n",
       "      <th>sex</th>\n",
       "      <th>cp</th>\n",
       "      <th>trtbps</th>\n",
       "      <th>chol</th>\n",
       "      <th>fbs</th>\n",
       "      <th>restecg</th>\n",
       "      <th>thalachh</th>\n",
       "      <th>exng</th>\n",
       "      <th>oldpeak</th>\n",
       "      <th>slp</th>\n",
       "      <th>caa</th>\n",
       "      <th>thall</th>\n",
       "      <th>output</th>\n",
       "    </tr>\n",
       "  </thead>\n",
       "  <tbody>\n",
       "    <tr>\n",
       "      <th>0</th>\n",
       "      <td>63</td>\n",
       "      <td>Male</td>\n",
       "      <td>Non-anginal pain</td>\n",
       "      <td>145</td>\n",
       "      <td>233</td>\n",
       "      <td>High</td>\n",
       "      <td>Hypertrophy</td>\n",
       "      <td>150</td>\n",
       "      <td>No</td>\n",
       "      <td>2.3</td>\n",
       "      <td>Down-sloping</td>\n",
       "      <td>0.0</td>\n",
       "      <td>Fixed defect</td>\n",
       "      <td>1</td>\n",
       "    </tr>\n",
       "    <tr>\n",
       "      <th>1</th>\n",
       "      <td>37</td>\n",
       "      <td>Male</td>\n",
       "      <td>Atypical angina</td>\n",
       "      <td>130</td>\n",
       "      <td>250</td>\n",
       "      <td>Low</td>\n",
       "      <td>Normal</td>\n",
       "      <td>187</td>\n",
       "      <td>No</td>\n",
       "      <td>3.5</td>\n",
       "      <td>Down-sloping</td>\n",
       "      <td>0.0</td>\n",
       "      <td>Normal</td>\n",
       "      <td>1</td>\n",
       "    </tr>\n",
       "    <tr>\n",
       "      <th>2</th>\n",
       "      <td>41</td>\n",
       "      <td>Female</td>\n",
       "      <td>Typical angina</td>\n",
       "      <td>130</td>\n",
       "      <td>204</td>\n",
       "      <td>Low</td>\n",
       "      <td>Hypertrophy</td>\n",
       "      <td>172</td>\n",
       "      <td>No</td>\n",
       "      <td>1.4</td>\n",
       "      <td>Up-sloping</td>\n",
       "      <td>0.0</td>\n",
       "      <td>Normal</td>\n",
       "      <td>1</td>\n",
       "    </tr>\n",
       "    <tr>\n",
       "      <th>3</th>\n",
       "      <td>56</td>\n",
       "      <td>Male</td>\n",
       "      <td>Typical angina</td>\n",
       "      <td>120</td>\n",
       "      <td>236</td>\n",
       "      <td>Low</td>\n",
       "      <td>Normal</td>\n",
       "      <td>178</td>\n",
       "      <td>No</td>\n",
       "      <td>0.8</td>\n",
       "      <td>Up-sloping</td>\n",
       "      <td>0.0</td>\n",
       "      <td>Normal</td>\n",
       "      <td>1</td>\n",
       "    </tr>\n",
       "    <tr>\n",
       "      <th>4</th>\n",
       "      <td>57</td>\n",
       "      <td>Female</td>\n",
       "      <td>Asymptomatic</td>\n",
       "      <td>120</td>\n",
       "      <td>354</td>\n",
       "      <td>Low</td>\n",
       "      <td>Normal</td>\n",
       "      <td>163</td>\n",
       "      <td>Yes</td>\n",
       "      <td>0.6</td>\n",
       "      <td>Up-sloping</td>\n",
       "      <td>0.0</td>\n",
       "      <td>Normal</td>\n",
       "      <td>1</td>\n",
       "    </tr>\n",
       "  </tbody>\n",
       "</table>\n",
       "</div>"
      ],
      "text/plain": [
       "   age     sex                cp  trtbps  chol   fbs      restecg  thalachh  \\\n",
       "0   63    Male  Non-anginal pain     145   233  High  Hypertrophy       150   \n",
       "1   37    Male   Atypical angina     130   250   Low       Normal       187   \n",
       "2   41  Female    Typical angina     130   204   Low  Hypertrophy       172   \n",
       "3   56    Male    Typical angina     120   236   Low       Normal       178   \n",
       "4   57  Female      Asymptomatic     120   354   Low       Normal       163   \n",
       "\n",
       "  exng  oldpeak           slp  caa         thall  output  \n",
       "0   No      2.3  Down-sloping  0.0  Fixed defect       1  \n",
       "1   No      3.5  Down-sloping  0.0        Normal       1  \n",
       "2   No      1.4    Up-sloping  0.0        Normal       1  \n",
       "3   No      0.8    Up-sloping  0.0        Normal       1  \n",
       "4  Yes      0.6    Up-sloping  0.0        Normal       1  "
      ]
     },
     "execution_count": 1,
     "metadata": {},
     "output_type": "execute_result"
    }
   ],
   "source": [
    "import pandas as pd\n",
    "\n",
    "data = pd.read_csv('heart-data.csv')\n",
    "\n",
    "data.head()"
   ]
  },
  {
   "cell_type": "markdown",
   "id": "044e1f5c",
   "metadata": {},
   "source": [
    "# TODO\n",
    "1. Remove samples with missing data (there are **7 samples** with missing data).\n",
    "2. Split the data to input and output.\n",
    "3. Replace categorical values with numeric values (Use numeric encoding and one-hot encoding when suitable).\n",
    "4. Split the dataset to (train - validation - test) by calling `train_test_split` two times:\n",
    "    - First time: use `test_size=0.20` and `random_state=0`.\n",
    "    - Second time: use `test_size=0.25` and `random_state=0`.\n",
    "5. Apply feature scaling using `MinMaxScaler`.\n",
    "6. Train a support vector machine classifier using suitable hyper-parameter values. \n",
    "7. Print the accuracy of both training and validation. Try to achieve **validation accuracy > 82%**.\n",
    "8. Test your support vector machine and print accuracy of testing."
   ]
  },
  {
   "cell_type": "markdown",
   "id": "154f86fc",
   "metadata": {},
   "source": [
    "## Remove samples with missing data (there are 7 samples with missing data)."
   ]
  },
  {
   "cell_type": "code",
   "execution_count": 2,
   "id": "1cf24e38",
   "metadata": {},
   "outputs": [
    {
     "name": "stdout",
     "output_type": "stream",
     "text": [
      "0.0231023102310231\n"
     ]
    }
   ],
   "source": [
    "mask = data.isnull().any(axis=1)                # create a mask of rows with missing data\n",
    "num_of_rows_with_nan =  mask.sum()              # calculate number of rows with missing data\n",
    "print(num_of_rows_with_nan/len(data))           # print the ratio of rows with missing data"
   ]
  },
  {
   "cell_type": "code",
   "execution_count": 3,
   "id": "7d9f66ba",
   "metadata": {},
   "outputs": [],
   "source": [
    "data_clean = data[~mask]  #  remove rows with missing data"
   ]
  },
  {
   "cell_type": "markdown",
   "id": "74d3d01f",
   "metadata": {},
   "source": [
    "## Split the data to input and output."
   ]
  },
  {
   "cell_type": "code",
   "execution_count": 4,
   "id": "dcbfc07f",
   "metadata": {},
   "outputs": [],
   "source": [
    "data_input = data_clean.drop(columns=['output'])  #  Select all columns from `data_clean` except 'output'\n",
    "data_output = data_clean['output']             #Select 'output' column from `data_clean`"
   ]
  },
  {
   "cell_type": "code",
   "execution_count": 5,
   "id": "b5eebf49",
   "metadata": {},
   "outputs": [
    {
     "data": {
      "text/html": [
       "<div>\n",
       "<style scoped>\n",
       "    .dataframe tbody tr th:only-of-type {\n",
       "        vertical-align: middle;\n",
       "    }\n",
       "\n",
       "    .dataframe tbody tr th {\n",
       "        vertical-align: top;\n",
       "    }\n",
       "\n",
       "    .dataframe thead th {\n",
       "        text-align: right;\n",
       "    }\n",
       "</style>\n",
       "<table border=\"1\" class=\"dataframe\">\n",
       "  <thead>\n",
       "    <tr style=\"text-align: right;\">\n",
       "      <th></th>\n",
       "      <th>age</th>\n",
       "      <th>sex</th>\n",
       "      <th>cp</th>\n",
       "      <th>trtbps</th>\n",
       "      <th>chol</th>\n",
       "      <th>fbs</th>\n",
       "      <th>restecg</th>\n",
       "      <th>thalachh</th>\n",
       "      <th>exng</th>\n",
       "      <th>oldpeak</th>\n",
       "      <th>slp</th>\n",
       "      <th>caa</th>\n",
       "      <th>thall</th>\n",
       "    </tr>\n",
       "  </thead>\n",
       "  <tbody>\n",
       "    <tr>\n",
       "      <th>0</th>\n",
       "      <td>63</td>\n",
       "      <td>Male</td>\n",
       "      <td>Non-anginal pain</td>\n",
       "      <td>145</td>\n",
       "      <td>233</td>\n",
       "      <td>High</td>\n",
       "      <td>Hypertrophy</td>\n",
       "      <td>150</td>\n",
       "      <td>No</td>\n",
       "      <td>2.3</td>\n",
       "      <td>Down-sloping</td>\n",
       "      <td>0.0</td>\n",
       "      <td>Fixed defect</td>\n",
       "    </tr>\n",
       "    <tr>\n",
       "      <th>1</th>\n",
       "      <td>37</td>\n",
       "      <td>Male</td>\n",
       "      <td>Atypical angina</td>\n",
       "      <td>130</td>\n",
       "      <td>250</td>\n",
       "      <td>Low</td>\n",
       "      <td>Normal</td>\n",
       "      <td>187</td>\n",
       "      <td>No</td>\n",
       "      <td>3.5</td>\n",
       "      <td>Down-sloping</td>\n",
       "      <td>0.0</td>\n",
       "      <td>Normal</td>\n",
       "    </tr>\n",
       "    <tr>\n",
       "      <th>2</th>\n",
       "      <td>41</td>\n",
       "      <td>Female</td>\n",
       "      <td>Typical angina</td>\n",
       "      <td>130</td>\n",
       "      <td>204</td>\n",
       "      <td>Low</td>\n",
       "      <td>Hypertrophy</td>\n",
       "      <td>172</td>\n",
       "      <td>No</td>\n",
       "      <td>1.4</td>\n",
       "      <td>Up-sloping</td>\n",
       "      <td>0.0</td>\n",
       "      <td>Normal</td>\n",
       "    </tr>\n",
       "    <tr>\n",
       "      <th>3</th>\n",
       "      <td>56</td>\n",
       "      <td>Male</td>\n",
       "      <td>Typical angina</td>\n",
       "      <td>120</td>\n",
       "      <td>236</td>\n",
       "      <td>Low</td>\n",
       "      <td>Normal</td>\n",
       "      <td>178</td>\n",
       "      <td>No</td>\n",
       "      <td>0.8</td>\n",
       "      <td>Up-sloping</td>\n",
       "      <td>0.0</td>\n",
       "      <td>Normal</td>\n",
       "    </tr>\n",
       "    <tr>\n",
       "      <th>4</th>\n",
       "      <td>57</td>\n",
       "      <td>Female</td>\n",
       "      <td>Asymptomatic</td>\n",
       "      <td>120</td>\n",
       "      <td>354</td>\n",
       "      <td>Low</td>\n",
       "      <td>Normal</td>\n",
       "      <td>163</td>\n",
       "      <td>Yes</td>\n",
       "      <td>0.6</td>\n",
       "      <td>Up-sloping</td>\n",
       "      <td>0.0</td>\n",
       "      <td>Normal</td>\n",
       "    </tr>\n",
       "  </tbody>\n",
       "</table>\n",
       "</div>"
      ],
      "text/plain": [
       "   age     sex                cp  trtbps  chol   fbs      restecg  thalachh  \\\n",
       "0   63    Male  Non-anginal pain     145   233  High  Hypertrophy       150   \n",
       "1   37    Male   Atypical angina     130   250   Low       Normal       187   \n",
       "2   41  Female    Typical angina     130   204   Low  Hypertrophy       172   \n",
       "3   56    Male    Typical angina     120   236   Low       Normal       178   \n",
       "4   57  Female      Asymptomatic     120   354   Low       Normal       163   \n",
       "\n",
       "  exng  oldpeak           slp  caa         thall  \n",
       "0   No      2.3  Down-sloping  0.0  Fixed defect  \n",
       "1   No      3.5  Down-sloping  0.0        Normal  \n",
       "2   No      1.4    Up-sloping  0.0        Normal  \n",
       "3   No      0.8    Up-sloping  0.0        Normal  \n",
       "4  Yes      0.6    Up-sloping  0.0        Normal  "
      ]
     },
     "execution_count": 5,
     "metadata": {},
     "output_type": "execute_result"
    }
   ],
   "source": [
    "data_input.head()"
   ]
  },
  {
   "cell_type": "code",
   "execution_count": 6,
   "id": "a348fd4a",
   "metadata": {},
   "outputs": [
    {
     "data": {
      "text/plain": [
       "0      1\n",
       "1      1\n",
       "2      1\n",
       "3      1\n",
       "4      1\n",
       "      ..\n",
       "298    0\n",
       "299    0\n",
       "300    0\n",
       "301    0\n",
       "302    0\n",
       "Name: output, Length: 296, dtype: int64"
      ]
     },
     "execution_count": 6,
     "metadata": {},
     "output_type": "execute_result"
    }
   ],
   "source": [
    "data_output"
   ]
  },
  {
   "cell_type": "markdown",
   "id": "1071ff01",
   "metadata": {},
   "source": [
    "## Replace categorical values with numeric values (Use numeric encoding and one-hot encoding when suitable)."
   ]
  },
  {
   "cell_type": "markdown",
   "id": "bf7729bc",
   "metadata": {},
   "source": [
    "## numeric encoding"
   ]
  },
  {
   "cell_type": "code",
   "execution_count": 7,
   "id": "179e4600",
   "metadata": {},
   "outputs": [
    {
     "name": "stdout",
     "output_type": "stream",
     "text": [
      "sex ['Male' 'Female']\n",
      "cp ['Non-anginal pain' 'Atypical angina' 'Typical angina' 'Asymptomatic']\n",
      "fbs ['High' 'Low']\n",
      "restecg ['Hypertrophy' 'Normal' 'ST-T wave abnormality']\n",
      "exng ['No' 'Yes']\n",
      "slp ['Down-sloping' 'Up-sloping' 'Flat']\n",
      "thall ['Fixed defect' 'Normal' 'Reversable defect' nan]\n"
     ]
    }
   ],
   "source": [
    "#  print unique values of categorical features\n",
    "\n",
    "print('sex',data['sex'].unique())\n",
    "print('cp',data ['cp'].unique()) \n",
    "print('fbs', data['fbs'].unique()) \n",
    "print('restecg', data['restecg'].unique())\n",
    "print('exng', data['exng'].unique()) \n",
    "print('slp', data['slp'].unique())\n",
    "print('thall', data['thall'].unique()) "
   ]
  },
  {
   "cell_type": "code",
   "execution_count": 8,
   "id": "b5ae60d5",
   "metadata": {},
   "outputs": [],
   "source": [
    "#  use numeric encoding to encode `sex`, `fbs`, and `exng `\n",
    "data_input_encoded_1 = data_input.replace({\n",
    "    'sex':{'Male':0 ,'Female':1},\n",
    "    'fbs':{'Low':0, 'High':1},\n",
    "    'exng':{'No':0 ,'Yes':1}\n",
    "})"
   ]
  },
  {
   "cell_type": "code",
   "execution_count": 9,
   "id": "129608a1",
   "metadata": {},
   "outputs": [
    {
     "data": {
      "text/html": [
       "<div>\n",
       "<style scoped>\n",
       "    .dataframe tbody tr th:only-of-type {\n",
       "        vertical-align: middle;\n",
       "    }\n",
       "\n",
       "    .dataframe tbody tr th {\n",
       "        vertical-align: top;\n",
       "    }\n",
       "\n",
       "    .dataframe thead th {\n",
       "        text-align: right;\n",
       "    }\n",
       "</style>\n",
       "<table border=\"1\" class=\"dataframe\">\n",
       "  <thead>\n",
       "    <tr style=\"text-align: right;\">\n",
       "      <th></th>\n",
       "      <th>age</th>\n",
       "      <th>sex</th>\n",
       "      <th>cp</th>\n",
       "      <th>trtbps</th>\n",
       "      <th>chol</th>\n",
       "      <th>fbs</th>\n",
       "      <th>restecg</th>\n",
       "      <th>thalachh</th>\n",
       "      <th>exng</th>\n",
       "      <th>oldpeak</th>\n",
       "      <th>slp</th>\n",
       "      <th>caa</th>\n",
       "      <th>thall</th>\n",
       "    </tr>\n",
       "  </thead>\n",
       "  <tbody>\n",
       "    <tr>\n",
       "      <th>0</th>\n",
       "      <td>63</td>\n",
       "      <td>0</td>\n",
       "      <td>Non-anginal pain</td>\n",
       "      <td>145</td>\n",
       "      <td>233</td>\n",
       "      <td>1</td>\n",
       "      <td>Hypertrophy</td>\n",
       "      <td>150</td>\n",
       "      <td>0</td>\n",
       "      <td>2.3</td>\n",
       "      <td>Down-sloping</td>\n",
       "      <td>0.0</td>\n",
       "      <td>Fixed defect</td>\n",
       "    </tr>\n",
       "    <tr>\n",
       "      <th>1</th>\n",
       "      <td>37</td>\n",
       "      <td>0</td>\n",
       "      <td>Atypical angina</td>\n",
       "      <td>130</td>\n",
       "      <td>250</td>\n",
       "      <td>0</td>\n",
       "      <td>Normal</td>\n",
       "      <td>187</td>\n",
       "      <td>0</td>\n",
       "      <td>3.5</td>\n",
       "      <td>Down-sloping</td>\n",
       "      <td>0.0</td>\n",
       "      <td>Normal</td>\n",
       "    </tr>\n",
       "    <tr>\n",
       "      <th>2</th>\n",
       "      <td>41</td>\n",
       "      <td>1</td>\n",
       "      <td>Typical angina</td>\n",
       "      <td>130</td>\n",
       "      <td>204</td>\n",
       "      <td>0</td>\n",
       "      <td>Hypertrophy</td>\n",
       "      <td>172</td>\n",
       "      <td>0</td>\n",
       "      <td>1.4</td>\n",
       "      <td>Up-sloping</td>\n",
       "      <td>0.0</td>\n",
       "      <td>Normal</td>\n",
       "    </tr>\n",
       "    <tr>\n",
       "      <th>3</th>\n",
       "      <td>56</td>\n",
       "      <td>0</td>\n",
       "      <td>Typical angina</td>\n",
       "      <td>120</td>\n",
       "      <td>236</td>\n",
       "      <td>0</td>\n",
       "      <td>Normal</td>\n",
       "      <td>178</td>\n",
       "      <td>0</td>\n",
       "      <td>0.8</td>\n",
       "      <td>Up-sloping</td>\n",
       "      <td>0.0</td>\n",
       "      <td>Normal</td>\n",
       "    </tr>\n",
       "    <tr>\n",
       "      <th>4</th>\n",
       "      <td>57</td>\n",
       "      <td>1</td>\n",
       "      <td>Asymptomatic</td>\n",
       "      <td>120</td>\n",
       "      <td>354</td>\n",
       "      <td>0</td>\n",
       "      <td>Normal</td>\n",
       "      <td>163</td>\n",
       "      <td>1</td>\n",
       "      <td>0.6</td>\n",
       "      <td>Up-sloping</td>\n",
       "      <td>0.0</td>\n",
       "      <td>Normal</td>\n",
       "    </tr>\n",
       "  </tbody>\n",
       "</table>\n",
       "</div>"
      ],
      "text/plain": [
       "   age  sex                cp  trtbps  chol  fbs      restecg  thalachh  exng  \\\n",
       "0   63    0  Non-anginal pain     145   233    1  Hypertrophy       150     0   \n",
       "1   37    0   Atypical angina     130   250    0       Normal       187     0   \n",
       "2   41    1    Typical angina     130   204    0  Hypertrophy       172     0   \n",
       "3   56    0    Typical angina     120   236    0       Normal       178     0   \n",
       "4   57    1      Asymptomatic     120   354    0       Normal       163     1   \n",
       "\n",
       "   oldpeak           slp  caa         thall  \n",
       "0      2.3  Down-sloping  0.0  Fixed defect  \n",
       "1      3.5  Down-sloping  0.0        Normal  \n",
       "2      1.4    Up-sloping  0.0        Normal  \n",
       "3      0.8    Up-sloping  0.0        Normal  \n",
       "4      0.6    Up-sloping  0.0        Normal  "
      ]
     },
     "execution_count": 9,
     "metadata": {},
     "output_type": "execute_result"
    }
   ],
   "source": [
    "data_input_encoded_1.head()"
   ]
  },
  {
   "cell_type": "markdown",
   "id": "2513c9f8",
   "metadata": {},
   "source": [
    "## one-hot encoding"
   ]
  },
  {
   "cell_type": "code",
   "execution_count": 10,
   "id": "32851364",
   "metadata": {},
   "outputs": [],
   "source": [
    "data_input_encoded_2 =pd.get_dummies(data_input_encoded_1, prefix='is')  # apply one-hot encoding to data_input_encoded_1"
   ]
  },
  {
   "cell_type": "code",
   "execution_count": 11,
   "id": "140a7542",
   "metadata": {},
   "outputs": [
    {
     "data": {
      "text/html": [
       "<div>\n",
       "<style scoped>\n",
       "    .dataframe tbody tr th:only-of-type {\n",
       "        vertical-align: middle;\n",
       "    }\n",
       "\n",
       "    .dataframe tbody tr th {\n",
       "        vertical-align: top;\n",
       "    }\n",
       "\n",
       "    .dataframe thead th {\n",
       "        text-align: right;\n",
       "    }\n",
       "</style>\n",
       "<table border=\"1\" class=\"dataframe\">\n",
       "  <thead>\n",
       "    <tr style=\"text-align: right;\">\n",
       "      <th></th>\n",
       "      <th>age</th>\n",
       "      <th>sex</th>\n",
       "      <th>trtbps</th>\n",
       "      <th>chol</th>\n",
       "      <th>fbs</th>\n",
       "      <th>thalachh</th>\n",
       "      <th>exng</th>\n",
       "      <th>oldpeak</th>\n",
       "      <th>caa</th>\n",
       "      <th>is_Asymptomatic</th>\n",
       "      <th>...</th>\n",
       "      <th>is_Typical angina</th>\n",
       "      <th>is_Hypertrophy</th>\n",
       "      <th>is_Normal</th>\n",
       "      <th>is_ST-T wave abnormality</th>\n",
       "      <th>is_Down-sloping</th>\n",
       "      <th>is_Flat</th>\n",
       "      <th>is_Up-sloping</th>\n",
       "      <th>is_Fixed defect</th>\n",
       "      <th>is_Normal</th>\n",
       "      <th>is_Reversable defect</th>\n",
       "    </tr>\n",
       "  </thead>\n",
       "  <tbody>\n",
       "    <tr>\n",
       "      <th>0</th>\n",
       "      <td>63</td>\n",
       "      <td>0</td>\n",
       "      <td>145</td>\n",
       "      <td>233</td>\n",
       "      <td>1</td>\n",
       "      <td>150</td>\n",
       "      <td>0</td>\n",
       "      <td>2.3</td>\n",
       "      <td>0.0</td>\n",
       "      <td>0</td>\n",
       "      <td>...</td>\n",
       "      <td>0</td>\n",
       "      <td>1</td>\n",
       "      <td>0</td>\n",
       "      <td>0</td>\n",
       "      <td>1</td>\n",
       "      <td>0</td>\n",
       "      <td>0</td>\n",
       "      <td>1</td>\n",
       "      <td>0</td>\n",
       "      <td>0</td>\n",
       "    </tr>\n",
       "    <tr>\n",
       "      <th>1</th>\n",
       "      <td>37</td>\n",
       "      <td>0</td>\n",
       "      <td>130</td>\n",
       "      <td>250</td>\n",
       "      <td>0</td>\n",
       "      <td>187</td>\n",
       "      <td>0</td>\n",
       "      <td>3.5</td>\n",
       "      <td>0.0</td>\n",
       "      <td>0</td>\n",
       "      <td>...</td>\n",
       "      <td>0</td>\n",
       "      <td>0</td>\n",
       "      <td>1</td>\n",
       "      <td>0</td>\n",
       "      <td>1</td>\n",
       "      <td>0</td>\n",
       "      <td>0</td>\n",
       "      <td>0</td>\n",
       "      <td>1</td>\n",
       "      <td>0</td>\n",
       "    </tr>\n",
       "    <tr>\n",
       "      <th>2</th>\n",
       "      <td>41</td>\n",
       "      <td>1</td>\n",
       "      <td>130</td>\n",
       "      <td>204</td>\n",
       "      <td>0</td>\n",
       "      <td>172</td>\n",
       "      <td>0</td>\n",
       "      <td>1.4</td>\n",
       "      <td>0.0</td>\n",
       "      <td>0</td>\n",
       "      <td>...</td>\n",
       "      <td>1</td>\n",
       "      <td>1</td>\n",
       "      <td>0</td>\n",
       "      <td>0</td>\n",
       "      <td>0</td>\n",
       "      <td>0</td>\n",
       "      <td>1</td>\n",
       "      <td>0</td>\n",
       "      <td>1</td>\n",
       "      <td>0</td>\n",
       "    </tr>\n",
       "    <tr>\n",
       "      <th>3</th>\n",
       "      <td>56</td>\n",
       "      <td>0</td>\n",
       "      <td>120</td>\n",
       "      <td>236</td>\n",
       "      <td>0</td>\n",
       "      <td>178</td>\n",
       "      <td>0</td>\n",
       "      <td>0.8</td>\n",
       "      <td>0.0</td>\n",
       "      <td>0</td>\n",
       "      <td>...</td>\n",
       "      <td>1</td>\n",
       "      <td>0</td>\n",
       "      <td>1</td>\n",
       "      <td>0</td>\n",
       "      <td>0</td>\n",
       "      <td>0</td>\n",
       "      <td>1</td>\n",
       "      <td>0</td>\n",
       "      <td>1</td>\n",
       "      <td>0</td>\n",
       "    </tr>\n",
       "    <tr>\n",
       "      <th>4</th>\n",
       "      <td>57</td>\n",
       "      <td>1</td>\n",
       "      <td>120</td>\n",
       "      <td>354</td>\n",
       "      <td>0</td>\n",
       "      <td>163</td>\n",
       "      <td>1</td>\n",
       "      <td>0.6</td>\n",
       "      <td>0.0</td>\n",
       "      <td>1</td>\n",
       "      <td>...</td>\n",
       "      <td>0</td>\n",
       "      <td>0</td>\n",
       "      <td>1</td>\n",
       "      <td>0</td>\n",
       "      <td>0</td>\n",
       "      <td>0</td>\n",
       "      <td>1</td>\n",
       "      <td>0</td>\n",
       "      <td>1</td>\n",
       "      <td>0</td>\n",
       "    </tr>\n",
       "  </tbody>\n",
       "</table>\n",
       "<p>5 rows × 22 columns</p>\n",
       "</div>"
      ],
      "text/plain": [
       "   age  sex  trtbps  chol  fbs  thalachh  exng  oldpeak  caa  is_Asymptomatic  \\\n",
       "0   63    0     145   233    1       150     0      2.3  0.0                0   \n",
       "1   37    0     130   250    0       187     0      3.5  0.0                0   \n",
       "2   41    1     130   204    0       172     0      1.4  0.0                0   \n",
       "3   56    0     120   236    0       178     0      0.8  0.0                0   \n",
       "4   57    1     120   354    0       163     1      0.6  0.0                1   \n",
       "\n",
       "   ...  is_Typical angina  is_Hypertrophy  is_Normal  \\\n",
       "0  ...                  0               1          0   \n",
       "1  ...                  0               0          1   \n",
       "2  ...                  1               1          0   \n",
       "3  ...                  1               0          1   \n",
       "4  ...                  0               0          1   \n",
       "\n",
       "   is_ST-T wave abnormality  is_Down-sloping  is_Flat  is_Up-sloping  \\\n",
       "0                         0                1        0              0   \n",
       "1                         0                1        0              0   \n",
       "2                         0                0        0              1   \n",
       "3                         0                0        0              1   \n",
       "4                         0                0        0              1   \n",
       "\n",
       "   is_Fixed defect  is_Normal  is_Reversable defect  \n",
       "0                1          0                     0  \n",
       "1                0          1                     0  \n",
       "2                0          1                     0  \n",
       "3                0          1                     0  \n",
       "4                0          1                     0  \n",
       "\n",
       "[5 rows x 22 columns]"
      ]
     },
     "execution_count": 11,
     "metadata": {},
     "output_type": "execute_result"
    }
   ],
   "source": [
    "data_input_encoded_2.head()"
   ]
  },
  {
   "cell_type": "markdown",
   "id": "e25e8806",
   "metadata": {},
   "source": [
    "## Split the dataset to (train - validation - test) "
   ]
  },
  {
   "cell_type": "markdown",
   "id": "6f168d5e",
   "metadata": {},
   "source": [
    "## First time: use test_size=0.20 and random_state=0.\n",
    "## Second time: use test_size=0.25 and random_state=0."
   ]
  },
  {
   "cell_type": "code",
   "execution_count": 14,
   "id": "ec58f559",
   "metadata": {},
   "outputs": [],
   "source": [
    "from sklearn.model_selection import train_test_split\n",
    "\n",
    "  \n",
    "    \n",
    "X, X_test, y, y_test = train_test_split(data_input_encoded_2, data_output, test_size=0.20 , random_state=0)\n",
    "\n",
    "    \n",
    "\n",
    "X_train, X_val, y_train, y_val = train_test_split(X, y ,test_size=0.25 , random_state=0)\n"
   ]
  },
  {
   "cell_type": "code",
   "execution_count": 15,
   "id": "a3d03517",
   "metadata": {},
   "outputs": [
    {
     "name": "stdout",
     "output_type": "stream",
     "text": [
      "(177, 22)\n",
      "(177,)\n",
      "---------------------\n",
      "(59, 22)\n",
      "(59,)\n",
      "---------------------\n",
      "(60, 22)\n",
      "(60,)\n"
     ]
    }
   ],
   "source": [
    "print(X_train.shape)\n",
    "print(y_train.shape)\n",
    "print('---------------------')\n",
    "print(X_val.shape)\n",
    "print(y_val.shape)\n",
    "print('---------------------')\n",
    "print(X_test.shape)\n",
    "print(y_test.shape)"
   ]
  },
  {
   "cell_type": "markdown",
   "id": "bb47a615",
   "metadata": {},
   "source": [
    "## Apply feature scaling using MinMaxScaler"
   ]
  },
  {
   "cell_type": "code",
   "execution_count": 16,
   "id": "a2ccb969",
   "metadata": {},
   "outputs": [],
   "source": [
    "from sklearn.preprocessing import MinMaxScaler\n",
    "\n",
    "scaler = MinMaxScaler() \n",
    "\n",
    "scaler.fit(X_train)  \n",
    "X_train_scaled =scaler.transform(X_train)   \n",
    "X_val_scaled =scaler.transform(X_val) \n",
    "X_test_scaled =scaler.transform(X_test)  "
   ]
  },
  {
   "cell_type": "markdown",
   "id": "c7f8fa5b",
   "metadata": {},
   "source": [
    "## Train a support vector machine classifier using suitable hyper-parameter values."
   ]
  },
  {
   "cell_type": "markdown",
   "id": "3fc19b70",
   "metadata": {},
   "source": [
    "## Linear SVM"
   ]
  },
  {
   "cell_type": "code",
   "execution_count": 19,
   "id": "b839d206",
   "metadata": {},
   "outputs": [
    {
     "name": "stdout",
     "output_type": "stream",
     "text": [
      "0.864406779661017\n",
      "0.847457627118644\n"
     ]
    }
   ],
   "source": [
    "from sklearn.svm import SVC        \n",
    "from sklearn.metrics import accuracy_score\n",
    "svc = SVC(kernel='linear', random_state=0, C=0.2) \n",
    "svc.fit(X_train_scaled, y_train)\n",
    "\n",
    "y_pred_train = svc.predict(X_train_scaled)\n",
    "y_pred_val = svc.predict(X_val_scaled)\n",
    "\n",
    "print(accuracy_score(y_train, y_pred_train))\n",
    "print(accuracy_score(y_val, y_pred_val))\n",
    "\n",
    "\n"
   ]
  },
  {
   "cell_type": "markdown",
   "id": "e3c749f4",
   "metadata": {},
   "source": [
    "## Poly SVM"
   ]
  },
  {
   "cell_type": "code",
   "execution_count": 27,
   "id": "7a9edadf",
   "metadata": {},
   "outputs": [
    {
     "name": "stdout",
     "output_type": "stream",
     "text": [
      "0.8700564971751412\n",
      "0.8305084745762712\n"
     ]
    }
   ],
   "source": [
    "# Poly SVM =====> non-linear\n",
    "svc = SVC(kernel='poly', degree=2, random_state=0, C=0.2)\n",
    "# degree=2 ====> if degree big الانحناءات هتزيد\n",
    "svc.fit(X_train_scaled, y_train)\n",
    "\n",
    "y_pred_train = svc.predict(X_train_scaled)\n",
    "y_pred_val = svc.predict(X_val_scaled)\n",
    "\n",
    "print(accuracy_score(y_train, y_pred_train))\n",
    "print(accuracy_score(y_val, y_pred_val))"
   ]
  },
  {
   "cell_type": "markdown",
   "id": "87bdc477",
   "metadata": {},
   "source": [
    "## RBF SVM"
   ]
  },
  {
   "cell_type": "code",
   "execution_count": 28,
   "id": "1245bf78",
   "metadata": {},
   "outputs": [
    {
     "name": "stdout",
     "output_type": "stream",
     "text": [
      "0.903954802259887\n",
      "0.8305084745762712\n"
     ]
    }
   ],
   "source": [
    "svc = SVC(kernel='rbf', gamma=0.01, random_state=0, C=120)\n",
    "svc.fit(X_train_scaled, y_train)\n",
    "\n",
    "y_pred_train = svc.predict(X_train_scaled)\n",
    "y_pred_val = svc.predict(X_val_scaled)\n",
    "\n",
    "print(accuracy_score(y_train, y_pred_train))\n",
    "print(accuracy_score(y_val, y_pred_val))"
   ]
  },
  {
   "cell_type": "markdown",
   "id": "02ba7c65",
   "metadata": {},
   "source": [
    "## Test your support vector machine and print accuracy of testing."
   ]
  },
  {
   "cell_type": "code",
   "execution_count": 29,
   "id": "f360440c",
   "metadata": {},
   "outputs": [
    {
     "name": "stdout",
     "output_type": "stream",
     "text": [
      "0.8333333333333334\n"
     ]
    }
   ],
   "source": [
    "y_pred_test = svc.predict(X_test_scaled)\n",
    "print(accuracy_score(y_test, y_pred_test))"
   ]
  },
  {
   "cell_type": "code",
   "execution_count": null,
   "id": "346201d5",
   "metadata": {},
   "outputs": [],
   "source": []
  }
 ],
 "metadata": {
  "kernelspec": {
   "display_name": "Python 3 (ipykernel)",
   "language": "python",
   "name": "python3"
  },
  "language_info": {
   "codemirror_mode": {
    "name": "ipython",
    "version": 3
   },
   "file_extension": ".py",
   "mimetype": "text/x-python",
   "name": "python",
   "nbconvert_exporter": "python",
   "pygments_lexer": "ipython3",
   "version": "3.8.12"
  }
 },
 "nbformat": 4,
 "nbformat_minor": 5
}
